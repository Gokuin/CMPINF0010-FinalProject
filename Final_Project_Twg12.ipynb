{
 "cells": [
  {
   "cell_type": "markdown",
   "id": "f347ed3e",
   "metadata": {},
   "source": [
    "## Final Project Notebook By Taittinger Gabelhart\n",
    "### Created for Big Ideas in Computing [0010]"
   ]
  },
  {
   "cell_type": "markdown",
   "id": "ccd06ea2",
   "metadata": {},
   "source": [
    "# Introduction:\n",
    "- For this project I wanted to find the neighborhoods with the most public art. I came up with this because I personally enjoying going to art musems and seeing public art installations whenever I'm in a new city.  I was also considering the neighborhoods with the most amount of stairs or the lowest crime levels but ended up on the art data set."
   ]
  },
  {
   "cell_type": "markdown",
   "id": "5806893f",
   "metadata": {},
   "source": [
    "# The Metric\n",
    "- My metric is the most public art aviable in a neighborhood. I pulled the City of Pittsburgh Public Art dataset that can be found here https://data.wprdc.org/dataset/city-of-pittsburgh-public-art. My goal is to find the neighborhood with the largest amount of art in it. I personally feel like the south side or the strip district will have the most but we'll see."
   ]
  },
  {
   "cell_type": "markdown",
   "id": "ad63e226",
   "metadata": {},
   "source": [
    "# The Best Neighborhood:\n",
    "- After going through the data and looking at the results I was able to determine that my first assumption was wrong it was not the South Side or the Strip District that has the most public art. It was the Central Business District with a whooping 459 pieces of public art. Below the code to find the best neighborhood that shows the how the rest of the neighborhoods stack up compared to the Central Business District."
   ]
  },
  {
   "cell_type": "code",
   "execution_count": 8,
   "id": "b7750a7f",
   "metadata": {},
   "outputs": [
    {
     "name": "stdout",
     "output_type": "stream",
     "text": [
      "Total number of public art in Pittsburgh: 3349\n",
      "Neighborhood with the most public art:  Central Business District  with  459  pieces of public art.\n",
      "Central Business District accounts for  13.705583756345177 % of the total public art in Pittsburgh.\n"
     ]
    }
   ],
   "source": [
    "#code for finding the best neighborhood here\n",
    "#import panda\n",
    "import pandas as panda\n",
    "#read in the data from the file\n",
    "#https://data.wprdc.org/datastore/dump/00d74e83-8a23-486e-841b-286e1332a151\n",
    "data = panda.read_csv('art.csv')\n",
    "#total number of public art in pittsburgh\n",
    "total_art = int(0)\n",
    "#grab all the different neighborhoods in the data set\n",
    "neighborhoods = data['neighborhood'].unique()\n",
    "#used to hold the neighborhood name with the most art\n",
    "n_w_m_a = \"\"\n",
    "#counter used to hold the number of art in a neighborhood\n",
    "most_art = int(0)\n",
    "dict = {\"neighborhood\":\"\",\"size\":0}\n",
    "#loop through all the neighborhood and find the one with \n",
    "#the largest number of public art pieces available\n",
    "for neighborhood in neighborhoods:\n",
    "    #build the query\n",
    "    q = \"neighborhood == \"+ \"\\'\" + str(neighborhood) + \"\\'\"\n",
    "    #query the data set for that specific neighborhood\n",
    "    n = data.query(q)\n",
    "    #update the total number of art in pittsburgh\n",
    "    total_art += n.size\n",
    "    \n",
    "    #add the neighborhood to the dict and its size\n",
    "    #check if the item is already in the dictionary\n",
    "    if neighborhood in dict.keys():\n",
    "        #it is, so update the quantity\n",
    "        dict[neighborhood] = n.size\n",
    "    else:\n",
    "        #its not, so add the item to the dictionary\n",
    "        dict[neighborhood] = n.size\n",
    "        \n",
    "    #check and see if this neighborhood is the one with the largest set size\n",
    "    if(n.size > most_art):\n",
    "        #grab its name\n",
    "        n_w_m_a = neighborhood\n",
    "        #grab the number of pieces of art in itS\n",
    "        most_art = n.size\n",
    "\n",
    "#display the found data and talk about the statistics of it\n",
    "print(\"Total number of public art in Pittsburgh:\", total_art)\n",
    "print(\"Neighborhood with the most public art: \", n_w_m_a, \" with \", most_art, \" pieces of public art.\")\n",
    "print(n_w_m_a, \"accounts for \", (float(most_art / total_art)* 100), \"% of the total public art in Pittsburgh.\")"
   ]
  },
  {
   "cell_type": "code",
   "execution_count": 6,
   "id": "902da9ad",
   "metadata": {},
   "outputs": [
    {
     "data": {
      "image/png": "[encoded data removed]",
      "text/plain": [
       "<Figure size 432x288 with 1 Axes>"
      ]
     },
     "metadata": {
      "needs_background": "light"
     },
     "output_type": "display_data"
    }
   ],
   "source": [
    "import matplotlib.pyplot as plot\n",
    "#code makes a bar graph of the neighborhoods and number of art in each\n",
    "#grab a list of the neighborhoods keys\n",
    "neighborhood = list(dict.keys())\n",
    "#grab a list of the values for each \n",
    "number_of_art = list(dict.values())\n",
    "#feed them into the bar graph\n",
    "#need to get type error fixed here so the bar graph actually shows up\n",
    "\n",
    "#plot.bar(neighborhood, number_of_art) #error here TypeError: 'value' must be an instance of str or bytes, not a float\n",
    "\n",
    "#x label for bar graph\n",
    "plot.xlabel(\"Neighborhoods\")\n",
    "#y label for bar graph\n",
    "plot.ylabel(\"Number of public art per neighborhood\")\n",
    "plot.ylim(0,460)\n",
    "#title of the bar graph\n",
    "plot.title(\"Public art distribution in Pittsburgh\")\n",
    "#display the bar graph, and its amazing empty glory\n",
    "plot.show()"
   ]
  },
  {
   "cell_type": "markdown",
   "id": "9ef115ab",
   "metadata": {},
   "source": [
    "# The Conclusion:\n",
    "- Conclusion: Reflect on how the data driven determination of “best neighborhood” is the same or different from your personal favorite neighborhood. Each member of the group should write their own response to this.\n",
    "\n",
    "- I ended up with the Central Business District being the best neighborhood when my metric was most public art on display in a neighborhood. I believe that having access to public art is important both for education purposes and to have something to enjoy when being outside. Some cities do not have as much green space as I would like so the next best thing in my mind would be some art to look at. My pick differs from my group partners as Pooya ended up with Regent Square using population density, home value, and income level of residents and my other group mate Micheal ended with his best neighborhood being Squirrel Hill South using the number of available playgrounds. All of our approachs are a little different but all have merit and help showcase different ways to look at what people consider the best neighborhood in Pittsburgh."
   ]
  }
 ],
 "metadata": {
  "kernelspec": {
   "display_name": "Python 3 (ipykernel)",
   "language": "python",
   "name": "python3"
  },
  "language_info": {
   "codemirror_mode": {
    "name": "ipython",
    "version": 3
   },
   "file_extension": ".py",
   "mimetype": "text/x-python",
   "name": "python",
   "nbconvert_exporter": "python",
   "pygments_lexer": "ipython3",
   "version": "3.9.7"
  }
 },
 "nbformat": 4,
 "nbformat_minor": 5
}
