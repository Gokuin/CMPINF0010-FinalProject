{
 "cells": [
  {
   "cell_type": "markdown",
   "metadata": {},
   "source": [
    "***Final Project Notebook***\n",
    "\n",
    "Name: Pooya Noori\n",
    "\n",
    "**Introduction:**"
   ]
  },
  {
   "cell_type": "markdown",
   "metadata": {},
   "source": [
    "For this project, I wanted to find out where or what is the best neighborhood to live in Pittsburgh in terms of low population, high home value, and median income. the reason is beacause we are planning to buy a house with my family, and that is why choosing the neighborhood based on living was my option."
   ]
  },
  {
   "cell_type": "markdown",
   "metadata": {},
   "source": [
    "**The Metric**"
   ]
  },
  {
   "cell_type": "markdown",
   "metadata": {},
   "source": [
    "My goal is to find a neighborhood with the great least population neighberhood, high home value, and average median income. I finded that out based on this resource.\n",
    "https://data.wprdc.org/dataset/pittsburgh-american-community-survey-2015-miscellaneous-data/resource/82f29015-6905-4b1c-8300-afe9bb2231b3.\n",
    "\n",
    "https://data.wprdc.org/dataset/pittsburgh-american-community-survey-2015-miscellaneous-data/resource/b119be7e-1c70-4bbe-bf34-2056fef533ec.\n",
    "\n",
    "https://data.wprdc.org/dataset/5b18c198-474c-4723-b735-cc5220ad43cc/resource/c93e8aca-7772-4775-bcd4-da10354cd1cc/download/mort.\n",
    "\n",
    "Here is my result:\n",
    "https://jupyterhub.sci.pitt.edu/user/pon7/files/housing%20-%20Sheet1.csv?_xsrf=2%7C994f0de5%7Cbc13d8ad97d4a721c68b4572de785309%7C1649188813"
   ]
  },
  {
   "cell_type": "code",
   "execution_count": 14,
   "metadata": {},
   "outputs": [
    {
     "data": {
      "text/html": [
       "<div>\n",
       "<style scoped>\n",
       "    .dataframe tbody tr th:only-of-type {\n",
       "        vertical-align: middle;\n",
       "    }\n",
       "\n",
       "    .dataframe tbody tr th {\n",
       "        vertical-align: top;\n",
       "    }\n",
       "\n",
       "    .dataframe thead th {\n",
       "        text-align: right;\n",
       "    }\n",
       "</style>\n",
       "<table border=\"1\" class=\"dataframe\">\n",
       "  <thead>\n",
       "    <tr style=\"text-align: right;\">\n",
       "      <th></th>\n",
       "      <th>Neighborhood</th>\n",
       "      <th>Id</th>\n",
       "      <th>Estimate; Total</th>\n",
       "      <th>Margin of Error; Total</th>\n",
       "    </tr>\n",
       "  </thead>\n",
       "  <tbody>\n",
       "    <tr>\n",
       "      <th>0</th>\n",
       "      <td>Allegheny Center</td>\n",
       "      <td>1</td>\n",
       "      <td>1411.0</td>\n",
       "      <td>196.000000</td>\n",
       "    </tr>\n",
       "    <tr>\n",
       "      <th>1</th>\n",
       "      <td>Allegheny West</td>\n",
       "      <td>2</td>\n",
       "      <td>343.0</td>\n",
       "      <td>96.000000</td>\n",
       "    </tr>\n",
       "    <tr>\n",
       "      <th>2</th>\n",
       "      <td>Allentown</td>\n",
       "      <td>3</td>\n",
       "      <td>2558.0</td>\n",
       "      <td>449.773276</td>\n",
       "    </tr>\n",
       "    <tr>\n",
       "      <th>3</th>\n",
       "      <td>Arlington</td>\n",
       "      <td>4</td>\n",
       "      <td>1852.0</td>\n",
       "      <td>348.188168</td>\n",
       "    </tr>\n",
       "    <tr>\n",
       "      <th>4</th>\n",
       "      <td>Arlington Heights</td>\n",
       "      <td>5</td>\n",
       "      <td>272.0</td>\n",
       "      <td>126.000000</td>\n",
       "    </tr>\n",
       "    <tr>\n",
       "      <th>...</th>\n",
       "      <td>...</td>\n",
       "      <td>...</td>\n",
       "      <td>...</td>\n",
       "      <td>...</td>\n",
       "    </tr>\n",
       "    <tr>\n",
       "      <th>86</th>\n",
       "      <td>Upper Lawrenceville</td>\n",
       "      <td>87</td>\n",
       "      <td>2754.0</td>\n",
       "      <td>435.708618</td>\n",
       "    </tr>\n",
       "    <tr>\n",
       "      <th>87</th>\n",
       "      <td>West End</td>\n",
       "      <td>88</td>\n",
       "      <td>235.0</td>\n",
       "      <td>138.000000</td>\n",
       "    </tr>\n",
       "    <tr>\n",
       "      <th>88</th>\n",
       "      <td>West Oakland</td>\n",
       "      <td>89</td>\n",
       "      <td>1717.0</td>\n",
       "      <td>285.001754</td>\n",
       "    </tr>\n",
       "    <tr>\n",
       "      <th>89</th>\n",
       "      <td>Westwood</td>\n",
       "      <td>90</td>\n",
       "      <td>3537.0</td>\n",
       "      <td>407.982843</td>\n",
       "    </tr>\n",
       "    <tr>\n",
       "      <th>90</th>\n",
       "      <td>Windgap</td>\n",
       "      <td>91</td>\n",
       "      <td>1534.0</td>\n",
       "      <td>367.828765</td>\n",
       "    </tr>\n",
       "  </tbody>\n",
       "</table>\n",
       "<p>91 rows × 4 columns</p>\n",
       "</div>"
      ],
      "text/plain": [
       "           Neighborhood  Id  Estimate; Total  Margin of Error; Total\n",
       "0      Allegheny Center   1           1411.0              196.000000\n",
       "1        Allegheny West   2            343.0               96.000000\n",
       "2             Allentown   3           2558.0              449.773276\n",
       "3             Arlington   4           1852.0              348.188168\n",
       "4     Arlington Heights   5            272.0              126.000000\n",
       "..                  ...  ..              ...                     ...\n",
       "86  Upper Lawrenceville  87           2754.0              435.708618\n",
       "87             West End  88            235.0              138.000000\n",
       "88         West Oakland  89           1717.0              285.001754\n",
       "89             Westwood  90           3537.0              407.982843\n",
       "90              Windgap  91           1534.0              367.828765\n",
       "\n",
       "[91 rows x 4 columns]"
      ]
     },
     "execution_count": 14,
     "metadata": {},
     "output_type": "execute_result"
    }
   ],
   "source": [
    "import pandas as pd\n",
    "import matplotlib as mpl\n",
    "dataset_url = 'https://data.wprdc.org/dataset/5b18c198-474c-4723-b735-cc5220ad43cc/resource/82f29015-6905-4b1c-8300-afe9bb2231b3/download/total-population.csv'\n",
    "dataset = pd.read_csv(dataset_url)\n",
    "dataset\n"
   ]
  },
  {
   "cell_type": "markdown",
   "metadata": {},
   "source": [
    "**My results dataset**"
   ]
  },
  {
   "cell_type": "code",
   "execution_count": 8,
   "metadata": {},
   "outputs": [
    {
     "data": {
      "text/html": [
       "<div>\n",
       "<style scoped>\n",
       "    .dataframe tbody tr th:only-of-type {\n",
       "        vertical-align: middle;\n",
       "    }\n",
       "\n",
       "    .dataframe tbody tr th {\n",
       "        vertical-align: top;\n",
       "    }\n",
       "\n",
       "    .dataframe thead th {\n",
       "        text-align: right;\n",
       "    }\n",
       "</style>\n",
       "<table border=\"1\" class=\"dataframe\">\n",
       "  <thead>\n",
       "    <tr style=\"text-align: right;\">\n",
       "      <th></th>\n",
       "      <th>Rank</th>\n",
       "      <th>Neighborhood</th>\n",
       "      <th>Population</th>\n",
       "      <th>Home Value</th>\n",
       "      <th>Median Income</th>\n",
       "    </tr>\n",
       "  </thead>\n",
       "  <tbody>\n",
       "    <tr>\n",
       "      <th>0</th>\n",
       "      <td>1</td>\n",
       "      <td>Regent Square</td>\n",
       "      <td>1,033</td>\n",
       "      <td>$300,900</td>\n",
       "      <td>$94,953</td>\n",
       "    </tr>\n",
       "    <tr>\n",
       "      <th>1</th>\n",
       "      <td>2</td>\n",
       "      <td>Point Breeze</td>\n",
       "      <td>5,555</td>\n",
       "      <td>$276,757</td>\n",
       "      <td>$109,215</td>\n",
       "    </tr>\n",
       "    <tr>\n",
       "      <th>2</th>\n",
       "      <td>3</td>\n",
       "      <td>Shadyside</td>\n",
       "      <td>13,593</td>\n",
       "      <td>$290,693</td>\n",
       "      <td>$53,305</td>\n",
       "    </tr>\n",
       "    <tr>\n",
       "      <th>3</th>\n",
       "      <td>4</td>\n",
       "      <td>Highland Park</td>\n",
       "      <td>6,854</td>\n",
       "      <td>$150,738</td>\n",
       "      <td>$62,251</td>\n",
       "    </tr>\n",
       "    <tr>\n",
       "      <th>4</th>\n",
       "      <td>5</td>\n",
       "      <td>Squirrel Hill South</td>\n",
       "      <td>15,572</td>\n",
       "      <td>$237,164</td>\n",
       "      <td>$65,941</td>\n",
       "    </tr>\n",
       "  </tbody>\n",
       "</table>\n",
       "</div>"
      ],
      "text/plain": [
       "   Rank         Neighborhood Population Home Value Median Income\n",
       "0     1        Regent Square      1,033   $300,900       $94,953\n",
       "1     2         Point Breeze      5,555   $276,757      $109,215\n",
       "2     3            Shadyside     13,593   $290,693       $53,305\n",
       "3     4        Highland Park      6,854   $150,738       $62,251\n",
       "4     5  Squirrel Hill South     15,572   $237,164       $65,941"
      ]
     },
     "execution_count": 8,
     "metadata": {},
     "output_type": "execute_result"
    }
   ],
   "source": [
    "import pandas as pd\n",
    "dataset = pd.read_csv(\"H - Sheet1.csv\")\n",
    "dataset.head()\n",
    "\n"
   ]
  },
  {
   "cell_type": "code",
   "execution_count": 135,
   "metadata": {},
   "outputs": [
    {
     "data": {
      "image/png": "[encoded data removed]",
      "text/plain": [
       "<Figure size 432x288 with 1 Axes>"
      ]
     },
     "metadata": {
      "needs_background": "light"
     },
     "output_type": "display_data"
    }
   ],
   "source": [
    "#import panda\n",
    "import matplotlib.pyplot as plt\n",
    "\n",
    "\n",
    "x = [1, 2, 3, 4,5]\n",
    "y = [300900, 276757, 290693, 150738,237164]\n",
    "labels = ['Regent Square', 'Point Breeze', 'Shadyside', 'Highland Park','Squirrel Hill South']\n",
    "plt.bar(x, y,width=.9,color=['blue','red'])\n",
    "\n",
    "# You can specify a rotation for the tick labels in degrees or with keywords.\n",
    "plt.xticks(x, labels, rotation='vertical')\n",
    "# Pad margins so that markers don't get clipped by the axes\n",
    "plt.margins(0.2)\n",
    "# Tweak spacing to prevent clipping of tick-labels\n",
    "plt.subplots_adjust(bottom=.15)\n",
    "plt.title('Home Value')\n",
    "plt.show()"
   ]
  },
  {
   "cell_type": "code",
   "execution_count": 2,
   "metadata": {},
   "outputs": [
    {
     "data": {
      "image/png": "[encoded data removed]",
      "text/plain": [
       "<Figure size 432x288 with 1 Axes>"
      ]
     },
     "metadata": {
      "needs_background": "light"
     },
     "output_type": "display_data"
    }
   ],
   "source": [
    "import matplotlib.pyplot as plt\n",
    "x = [1, 2, 3, 4,5]\n",
    "y = [1033, 5555,  13593,6854,15572]\n",
    "labels = ['Regent Square', 'Point Breeze', 'Shadyside', 'Highland Park','Squirrel Hill South']\n",
    "plt.bar(x, y,width=.9,color=['green','orange'])\n",
    "\n",
    "# You can specify a rotation for the tick labels in degrees or with keywords.\n",
    "plt.xticks(x, labels, rotation='vertical')\n",
    "# Pad margins so that markers don't get clipped by the axes\n",
    "plt.margins(0.2)\n",
    "# Tweak spacing to prevent clipping of tick-labels\n",
    "plt.subplots_adjust(bottom=.15)\n",
    "plt.title('Population')\n",
    "plt.show()"
   ]
  },
  {
   "cell_type": "markdown",
   "metadata": {},
   "source": [
    "***the conclusion***\n",
    "\n",
    "as you can see based on my research from 81 neighborhoods. this is what i got.\n",
    "To me, the regent square is number one when it comes to living. based on the most balanced neighborhoods you can imagine what I mean by that is look at the population. it has the lowest population, the median income is average and home values are reasonable and if you search it on the map it is 20 minutes away from downtown as well. not saying that all other neighborhoods that I listed here which are (Point Breeze, Shadyside, Highland Park, Squirrel Hill South)\n",
    "these are also great options to live in Pittsburgh, but number one is regent square."
   ]
  },
  {
   "cell_type": "code",
   "execution_count": null,
   "metadata": {},
   "outputs": [],
   "source": []
  }
 ],
 "metadata": {
  "kernelspec": {
   "display_name": "Python 3",
   "language": "python",
   "name": "python3"
  },
  "language_info": {
   "codemirror_mode": {
    "name": "ipython",
    "version": 3
   },
   "file_extension": ".py",
   "mimetype": "text/x-python",
   "name": "python",
   "nbconvert_exporter": "python",
   "pygments_lexer": "ipython3",
   "version": "3.8.3"
  }
 },
 "nbformat": 4,
 "nbformat_minor": 4
}
