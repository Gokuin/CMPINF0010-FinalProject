{
 "cells": [
  {
   "cell_type": "markdown",
   "metadata": {},
   "source": [
    "***Final Project Notebook***\n",
    "\n",
    "Name: Pooya Noori\n",
    "\n",
    "**Introduction:**"
   ]
  },
  {
   "cell_type": "markdown",
   "metadata": {},
   "source": [
    "For this project i chose to find best neighborhood for living (buy house) in pittsburgh in terms of low population, high homevalue, and median income.the reason is beacause we are planing to buy a house with my family, and that is why choosing neighborhood based on living is my option.\n"
   ]
  },
  {
   "cell_type": "markdown",
   "metadata": {},
   "source": [
    "**The Metric**"
   ]
  },
  {
   "cell_type": "markdown",
   "metadata": {},
   "source": [
    "My goal is to find neighbordhood with the great and most balanced average cost of living, safety, and housing. i have some resources like https://www.niche.com/places-to-live/search/best-neighborhoods/m/pittsburgh-metro-area/https://www.niche.com/places-to-live/search/best-neighborhoods/m/pittsburgh-metro-area/ that is showing all aspects of neighborhood based on living.\n",
    "\n",
    "Here is my result(DatasetLink):\n",
    "https://docs.google.com/spreadsheets/d/1mS9AC4HDMfSwb5Or11GlwJnyRttmNBb7iHePi_KeIM8/edit#gid=0"
   ]
  },
  {
   "cell_type": "code",
   "execution_count": 23,
   "metadata": {},
   "outputs": [
    {
     "data": {
      "text/html": [
       "<div>\n",
       "<style scoped>\n",
       "    .dataframe tbody tr th:only-of-type {\n",
       "        vertical-align: middle;\n",
       "    }\n",
       "\n",
       "    .dataframe tbody tr th {\n",
       "        vertical-align: top;\n",
       "    }\n",
       "\n",
       "    .dataframe thead th {\n",
       "        text-align: right;\n",
       "    }\n",
       "</style>\n",
       "<table border=\"1\" class=\"dataframe\">\n",
       "  <thead>\n",
       "    <tr style=\"text-align: right;\">\n",
       "      <th></th>\n",
       "      <th>Rank</th>\n",
       "      <th>Neighborhood</th>\n",
       "      <th>Population</th>\n",
       "      <th>Home Value</th>\n",
       "      <th>Median Income</th>\n",
       "    </tr>\n",
       "  </thead>\n",
       "  <tbody>\n",
       "    <tr>\n",
       "      <th>0</th>\n",
       "      <td>1</td>\n",
       "      <td>Regent Square</td>\n",
       "      <td>4,067</td>\n",
       "      <td>$300,900</td>\n",
       "      <td>$94,953</td>\n",
       "    </tr>\n",
       "    <tr>\n",
       "      <th>1</th>\n",
       "      <td>2</td>\n",
       "      <td>Point Breeze</td>\n",
       "      <td>5,555</td>\n",
       "      <td>$276,757</td>\n",
       "      <td>$109,215</td>\n",
       "    </tr>\n",
       "    <tr>\n",
       "      <th>2</th>\n",
       "      <td>3</td>\n",
       "      <td>Shadyside</td>\n",
       "      <td>13,593</td>\n",
       "      <td>$290,693</td>\n",
       "      <td>$53,305</td>\n",
       "    </tr>\n",
       "    <tr>\n",
       "      <th>3</th>\n",
       "      <td>4</td>\n",
       "      <td>Highland Park</td>\n",
       "      <td>6,854</td>\n",
       "      <td>$150,738</td>\n",
       "      <td>$62,251</td>\n",
       "    </tr>\n",
       "    <tr>\n",
       "      <th>4</th>\n",
       "      <td>5</td>\n",
       "      <td>Squirrel Hill South</td>\n",
       "      <td>15,572</td>\n",
       "      <td>$237,164</td>\n",
       "      <td>$65,941</td>\n",
       "    </tr>\n",
       "  </tbody>\n",
       "</table>\n",
       "</div>"
      ],
      "text/plain": [
       "   Rank         Neighborhood Population Home Value Median Income\n",
       "0     1        Regent Square      4,067   $300,900       $94,953\n",
       "1     2         Point Breeze      5,555   $276,757      $109,215\n",
       "2     3            Shadyside     13,593   $290,693       $53,305\n",
       "3     4        Highland Park      6,854   $150,738       $62,251\n",
       "4     5  Squirrel Hill South     15,572   $237,164       $65,941"
      ]
     },
     "execution_count": 23,
     "metadata": {},
     "output_type": "execute_result"
    }
   ],
   "source": [
    "import pandas as panda\n",
    "#read in the data from the file\n",
    "data = panda.read_csv('housing - Sheet1.csv')\n",
    "data.head()"
   ]
  },
  {
   "cell_type": "markdown",
   "metadata": {},
   "source": [
    "as you can see based on my resserch this is what ia got.\n",
    "To me regent square is number 1 when it comes to living. based on most balacned neigberhood that you can imagine of what i mean by that is look at the population. it hhas a lowest population, median income is average and homevalues are resonable and if you search it on the map it is 20 minitest away from downtown as well. not saying that all other negibehood that i listed here which are (Point Breeze\t5,555\t$276,757\t$109,215\n",
    "2\t3\tShadyside\t13,593\t$290,693\t$53,305\n",
    "3\t4\tHighland Park\t6,854\t$150,738\t$62,251\n",
    "4\t5\tSquirrel Hill South\n",
    "thease are also great options to live in pittsburgh, but as far as number one is regent square."
   ]
  },
  {
   "cell_type": "markdown",
   "metadata": {},
   "source": []
  }
 ],
 "metadata": {
  "kernelspec": {
   "display_name": "Python 3",
   "language": "python",
   "name": "python3"
  },
  "language_info": {
   "codemirror_mode": {
    "name": "ipython",
    "version": 3
   },
   "file_extension": ".py",
   "mimetype": "text/x-python",
   "name": "python",
   "nbconvert_exporter": "python",
   "pygments_lexer": "ipython3",
   "version": "3.8.3"
  }
 },
 "nbformat": 4,
 "nbformat_minor": 4
}
