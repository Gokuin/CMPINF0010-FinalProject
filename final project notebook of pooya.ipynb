{
 "cells": [
  {
   "cell_type": "markdown",
   "metadata": {},
   "source": [
    "***Final Project Notebook***\n",
    "\n",
    "Name: Pooya Noori\n",
    "\n",
    "**Introduction:**"
   ]
  },
  {
   "cell_type": "markdown",
   "metadata": {},
   "source": [
    "For this project, I chose to find the best neighborhood for a living (buy a house) in Pittsburgh in terms of low population, high home value, and median income. the reason is beacause we are planning to buy a house with my family, and that is why choosing the neighborhood based on living was my option."
   ]
  },
  {
   "cell_type": "markdown",
   "metadata": {},
   "source": [
    "**The Metric**"
   ]
  },
  {
   "cell_type": "markdown",
   "metadata": {},
   "source": [
    "My goal is to find a neighborhood with the great and most balanced average cost of living, safety, and housing. I finded that out based on this resouce.\n",
    "https://data.wprdc.org/dataset/pittsburgh-american-community-survey-2015-miscellaneous-data/resource/82f29015-6905-4b1c-8300-afe9bb2231b3.\n",
    "\n",
    "https://data.wprdc.org/dataset/pittsburgh-american-community-survey-2015-miscellaneous-data/resource/b119be7e-1c70-4bbe-bf34-2056fef533ec.\n",
    "\n",
    "https://data.wprdc.org/dataset/5b18c198-474c-4723-b735-cc5220ad43cc/resource/c93e8aca-7772-4775-bcd4-da10354cd1cc/download/mort.\n",
    "\n",
    "Here is my result:\n",
    "https://jupyterhub.sci.pitt.edu/user/pon7/files/housing%20-%20Sheet1.csv?_xsrf=2%7C994f0de5%7Cbc13d8ad97d4a721c68b4572de785309%7C1649188813"
   ]
  },
  {
   "cell_type": "code",
   "execution_count": 1,
   "metadata": {},
   "outputs": [
    {
     "data": {
      "text/html": [
       "<div>\n",
       "<style scoped>\n",
       "    .dataframe tbody tr th:only-of-type {\n",
       "        vertical-align: middle;\n",
       "    }\n",
       "\n",
       "    .dataframe tbody tr th {\n",
       "        vertical-align: top;\n",
       "    }\n",
       "\n",
       "    .dataframe thead th {\n",
       "        text-align: right;\n",
       "    }\n",
       "</style>\n",
       "<table border=\"1\" class=\"dataframe\">\n",
       "  <thead>\n",
       "    <tr style=\"text-align: right;\">\n",
       "      <th></th>\n",
       "      <th>Rank</th>\n",
       "      <th>Neighborhood</th>\n",
       "      <th>Population</th>\n",
       "      <th>Home Value</th>\n",
       "      <th>Median Income</th>\n",
       "    </tr>\n",
       "  </thead>\n",
       "  <tbody>\n",
       "    <tr>\n",
       "      <th>0</th>\n",
       "      <td>1</td>\n",
       "      <td>Regent Square</td>\n",
       "      <td>4,067</td>\n",
       "      <td>$300,900</td>\n",
       "      <td>$94,953</td>\n",
       "    </tr>\n",
       "    <tr>\n",
       "      <th>1</th>\n",
       "      <td>2</td>\n",
       "      <td>Point Breeze</td>\n",
       "      <td>5,555</td>\n",
       "      <td>$276,757</td>\n",
       "      <td>$109,215</td>\n",
       "    </tr>\n",
       "    <tr>\n",
       "      <th>2</th>\n",
       "      <td>3</td>\n",
       "      <td>Shadyside</td>\n",
       "      <td>13,593</td>\n",
       "      <td>$290,693</td>\n",
       "      <td>$53,305</td>\n",
       "    </tr>\n",
       "    <tr>\n",
       "      <th>3</th>\n",
       "      <td>4</td>\n",
       "      <td>Highland Park</td>\n",
       "      <td>6,854</td>\n",
       "      <td>$150,738</td>\n",
       "      <td>$62,251</td>\n",
       "    </tr>\n",
       "    <tr>\n",
       "      <th>4</th>\n",
       "      <td>5</td>\n",
       "      <td>Squirrel Hill South</td>\n",
       "      <td>15,572</td>\n",
       "      <td>$237,164</td>\n",
       "      <td>$65,941</td>\n",
       "    </tr>\n",
       "  </tbody>\n",
       "</table>\n",
       "</div>"
      ],
      "text/plain": [
       "   Rank         Neighborhood Population Home Value Median Income\n",
       "0     1        Regent Square      4,067   $300,900       $94,953\n",
       "1     2         Point Breeze      5,555   $276,757      $109,215\n",
       "2     3            Shadyside     13,593   $290,693       $53,305\n",
       "3     4        Highland Park      6,854   $150,738       $62,251\n",
       "4     5  Squirrel Hill South     15,572   $237,164       $65,941"
      ]
     },
     "execution_count": 1,
     "metadata": {},
     "output_type": "execute_result"
    }
   ],
   "source": [
    "import pandas as panda\n",
    "#read in the data from the file\n",
    "data = panda.read_csv('housing - Sheet1.csv')\n",
    "data.head()\n"
   ]
  },
  {
   "cell_type": "markdown",
   "metadata": {},
   "source": [
    "as you can see based on my research this is what it got.\n",
    "To me, the regent square is number one when it comes to living. based on the most balanced neighborhoods you can imagine what I mean by that is look at the population. it has the lowest population, the median income is average and home values are reasonable and if you search it on the map it is 20 minutes away from downtown as well. not saying that all other neighborhoods that I listed here which are (Point Breeze, Shadyside, Highland Park, Squirrel Hill South)\n",
    "these are also great options to live in Pittsburgh, but number one is regent square."
   ]
  },
  {
   "cell_type": "markdown",
   "metadata": {},
   "source": []
  }
 ],
 "metadata": {
  "kernelspec": {
   "display_name": "Python 3",
   "language": "python",
   "name": "python3"
  },
  "language_info": {
   "codemirror_mode": {
    "name": "ipython",
    "version": 3
   },
   "file_extension": ".py",
   "mimetype": "text/x-python",
   "name": "python",
   "nbconvert_exporter": "python",
   "pygments_lexer": "ipython3",
   "version": "3.8.3"
  }
 },
 "nbformat": 4,
 "nbformat_minor": 4
}
